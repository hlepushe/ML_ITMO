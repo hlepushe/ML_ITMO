{
  "nbformat": 4,
  "nbformat_minor": 0,
  "metadata": {
    "colab": {
      "provenance": [],
      "authorship_tag": "ABX9TyPP+13G3HAn9LizW3ONtx+i",
      "include_colab_link": true
    },
    "kernelspec": {
      "name": "python3",
      "display_name": "Python 3"
    },
    "language_info": {
      "name": "python"
    }
  },
  "cells": [
    {
      "cell_type": "markdown",
      "metadata": {
        "id": "view-in-github",
        "colab_type": "text"
      },
      "source": [
        "<a href=\"https://colab.research.google.com/github/hlepushe/ML_ITMO/blob/main/%D0%9C%D0%9E_%D0%94%D0%971.ipynb\" target=\"_parent\"><img src=\"https://colab.research.google.com/assets/colab-badge.svg\" alt=\"Open In Colab\"/></a>"
      ]
    },
    {
      "cell_type": "markdown",
      "source": [
        "Первая домашняя работа.\n",
        "\n",
        "Датасет брала по ссылке https://archive.ics.uci.edu/dataset/186/wine+quality\n",
        "\n",
        "В своей работе хочу использовать часть датасета, а именно характеристики красного вина.\n",
        "Бизнес задача: создать модель, которая по содержанию алкоголя в вине определяет его кислотность.\n",
        "ML-задача: линейная регрессия, предсказывание признаков\n",
        "Для оценки эффективности обучения и точности прогнозов предлагаю использовать метрики R^2 (коэффициент детерминации) и МАЕ (Mean Absolute Error). Данные метрики позволят определить, насколько хорошо модель предсказывает кислотность. а также оценить в абсолютных единицах, как сильно она ошибается."
      ],
      "metadata": {
        "id": "r7ZFTdPn8wOu"
      }
    },
    {
      "cell_type": "code",
      "execution_count": 55,
      "metadata": {
        "id": "Uj1kxq997F1P"
      },
      "outputs": [],
      "source": [
        "import numpy as np\n",
        "import pandas as pd\n"
      ]
    },
    {
      "cell_type": "markdown",
      "source": [
        "импортируем файлы датасета\n"
      ],
      "metadata": {
        "id": "mXuSoQJS_6zy"
      }
    },
    {
      "cell_type": "code",
      "source": [
        "from google.colab import files\n",
        "\n",
        "uploaded = files.upload()  #загружался файл winequality-red.csv из исходного датасета\n"
      ],
      "metadata": {
        "colab": {
          "base_uri": "https://localhost:8080/",
          "height": 73
        },
        "id": "6mJ3bwpb9sH4",
        "outputId": "6af92a61-af3d-4594-e47c-ba33b9ec05db"
      },
      "execution_count": 33,
      "outputs": [
        {
          "output_type": "display_data",
          "data": {
            "text/plain": [
              "<IPython.core.display.HTML object>"
            ],
            "text/html": [
              "\n",
              "     <input type=\"file\" id=\"files-39a4d41f-a9a7-4eed-a335-0c8666382701\" name=\"files[]\" multiple disabled\n",
              "        style=\"border:none\" />\n",
              "     <output id=\"result-39a4d41f-a9a7-4eed-a335-0c8666382701\">\n",
              "      Upload widget is only available when the cell has been executed in the\n",
              "      current browser session. Please rerun this cell to enable.\n",
              "      </output>\n",
              "      <script>// Copyright 2017 Google LLC\n",
              "//\n",
              "// Licensed under the Apache License, Version 2.0 (the \"License\");\n",
              "// you may not use this file except in compliance with the License.\n",
              "// You may obtain a copy of the License at\n",
              "//\n",
              "//      http://www.apache.org/licenses/LICENSE-2.0\n",
              "//\n",
              "// Unless required by applicable law or agreed to in writing, software\n",
              "// distributed under the License is distributed on an \"AS IS\" BASIS,\n",
              "// WITHOUT WARRANTIES OR CONDITIONS OF ANY KIND, either express or implied.\n",
              "// See the License for the specific language governing permissions and\n",
              "// limitations under the License.\n",
              "\n",
              "/**\n",
              " * @fileoverview Helpers for google.colab Python module.\n",
              " */\n",
              "(function(scope) {\n",
              "function span(text, styleAttributes = {}) {\n",
              "  const element = document.createElement('span');\n",
              "  element.textContent = text;\n",
              "  for (const key of Object.keys(styleAttributes)) {\n",
              "    element.style[key] = styleAttributes[key];\n",
              "  }\n",
              "  return element;\n",
              "}\n",
              "\n",
              "// Max number of bytes which will be uploaded at a time.\n",
              "const MAX_PAYLOAD_SIZE = 100 * 1024;\n",
              "\n",
              "function _uploadFiles(inputId, outputId) {\n",
              "  const steps = uploadFilesStep(inputId, outputId);\n",
              "  const outputElement = document.getElementById(outputId);\n",
              "  // Cache steps on the outputElement to make it available for the next call\n",
              "  // to uploadFilesContinue from Python.\n",
              "  outputElement.steps = steps;\n",
              "\n",
              "  return _uploadFilesContinue(outputId);\n",
              "}\n",
              "\n",
              "// This is roughly an async generator (not supported in the browser yet),\n",
              "// where there are multiple asynchronous steps and the Python side is going\n",
              "// to poll for completion of each step.\n",
              "// This uses a Promise to block the python side on completion of each step,\n",
              "// then passes the result of the previous step as the input to the next step.\n",
              "function _uploadFilesContinue(outputId) {\n",
              "  const outputElement = document.getElementById(outputId);\n",
              "  const steps = outputElement.steps;\n",
              "\n",
              "  const next = steps.next(outputElement.lastPromiseValue);\n",
              "  return Promise.resolve(next.value.promise).then((value) => {\n",
              "    // Cache the last promise value to make it available to the next\n",
              "    // step of the generator.\n",
              "    outputElement.lastPromiseValue = value;\n",
              "    return next.value.response;\n",
              "  });\n",
              "}\n",
              "\n",
              "/**\n",
              " * Generator function which is called between each async step of the upload\n",
              " * process.\n",
              " * @param {string} inputId Element ID of the input file picker element.\n",
              " * @param {string} outputId Element ID of the output display.\n",
              " * @return {!Iterable<!Object>} Iterable of next steps.\n",
              " */\n",
              "function* uploadFilesStep(inputId, outputId) {\n",
              "  const inputElement = document.getElementById(inputId);\n",
              "  inputElement.disabled = false;\n",
              "\n",
              "  const outputElement = document.getElementById(outputId);\n",
              "  outputElement.innerHTML = '';\n",
              "\n",
              "  const pickedPromise = new Promise((resolve) => {\n",
              "    inputElement.addEventListener('change', (e) => {\n",
              "      resolve(e.target.files);\n",
              "    });\n",
              "  });\n",
              "\n",
              "  const cancel = document.createElement('button');\n",
              "  inputElement.parentElement.appendChild(cancel);\n",
              "  cancel.textContent = 'Cancel upload';\n",
              "  const cancelPromise = new Promise((resolve) => {\n",
              "    cancel.onclick = () => {\n",
              "      resolve(null);\n",
              "    };\n",
              "  });\n",
              "\n",
              "  // Wait for the user to pick the files.\n",
              "  const files = yield {\n",
              "    promise: Promise.race([pickedPromise, cancelPromise]),\n",
              "    response: {\n",
              "      action: 'starting',\n",
              "    }\n",
              "  };\n",
              "\n",
              "  cancel.remove();\n",
              "\n",
              "  // Disable the input element since further picks are not allowed.\n",
              "  inputElement.disabled = true;\n",
              "\n",
              "  if (!files) {\n",
              "    return {\n",
              "      response: {\n",
              "        action: 'complete',\n",
              "      }\n",
              "    };\n",
              "  }\n",
              "\n",
              "  for (const file of files) {\n",
              "    const li = document.createElement('li');\n",
              "    li.append(span(file.name, {fontWeight: 'bold'}));\n",
              "    li.append(span(\n",
              "        `(${file.type || 'n/a'}) - ${file.size} bytes, ` +\n",
              "        `last modified: ${\n",
              "            file.lastModifiedDate ? file.lastModifiedDate.toLocaleDateString() :\n",
              "                                    'n/a'} - `));\n",
              "    const percent = span('0% done');\n",
              "    li.appendChild(percent);\n",
              "\n",
              "    outputElement.appendChild(li);\n",
              "\n",
              "    const fileDataPromise = new Promise((resolve) => {\n",
              "      const reader = new FileReader();\n",
              "      reader.onload = (e) => {\n",
              "        resolve(e.target.result);\n",
              "      };\n",
              "      reader.readAsArrayBuffer(file);\n",
              "    });\n",
              "    // Wait for the data to be ready.\n",
              "    let fileData = yield {\n",
              "      promise: fileDataPromise,\n",
              "      response: {\n",
              "        action: 'continue',\n",
              "      }\n",
              "    };\n",
              "\n",
              "    // Use a chunked sending to avoid message size limits. See b/62115660.\n",
              "    let position = 0;\n",
              "    do {\n",
              "      const length = Math.min(fileData.byteLength - position, MAX_PAYLOAD_SIZE);\n",
              "      const chunk = new Uint8Array(fileData, position, length);\n",
              "      position += length;\n",
              "\n",
              "      const base64 = btoa(String.fromCharCode.apply(null, chunk));\n",
              "      yield {\n",
              "        response: {\n",
              "          action: 'append',\n",
              "          file: file.name,\n",
              "          data: base64,\n",
              "        },\n",
              "      };\n",
              "\n",
              "      let percentDone = fileData.byteLength === 0 ?\n",
              "          100 :\n",
              "          Math.round((position / fileData.byteLength) * 100);\n",
              "      percent.textContent = `${percentDone}% done`;\n",
              "\n",
              "    } while (position < fileData.byteLength);\n",
              "  }\n",
              "\n",
              "  // All done.\n",
              "  yield {\n",
              "    response: {\n",
              "      action: 'complete',\n",
              "    }\n",
              "  };\n",
              "}\n",
              "\n",
              "scope.google = scope.google || {};\n",
              "scope.google.colab = scope.google.colab || {};\n",
              "scope.google.colab._files = {\n",
              "  _uploadFiles,\n",
              "  _uploadFilesContinue,\n",
              "};\n",
              "})(self);\n",
              "</script> "
            ]
          },
          "metadata": {}
        },
        {
          "output_type": "stream",
          "name": "stdout",
          "text": [
            "Saving winequality-red.csv to winequality-red (1).csv\n"
          ]
        }
      ]
    },
    {
      "cell_type": "markdown",
      "source": [
        "зададим переменную, посмотрим на содержимое файла\n"
      ],
      "metadata": {
        "id": "ahuOdIPK_2hK"
      }
    },
    {
      "cell_type": "code",
      "source": [
        "df1 = pd.read_csv('winequality-red.csv')\n"
      ],
      "metadata": {
        "id": "tRvZx0Tf-Id4"
      },
      "execution_count": 34,
      "outputs": []
    },
    {
      "cell_type": "code",
      "source": [
        "print(\"Содержимое файла:\")\n",
        "print(df1.head())\n"
      ],
      "metadata": {
        "colab": {
          "base_uri": "https://localhost:8080/"
        },
        "id": "Oav_OHTL-U0I",
        "outputId": "790059c2-96aa-440a-8c1b-26e22d7784f3"
      },
      "execution_count": 35,
      "outputs": [
        {
          "output_type": "stream",
          "name": "stdout",
          "text": [
            "Содержимое файла:\n",
            "  fixed acidity;\"volatile acidity\";\"citric acid\";\"residual sugar\";\"chlorides\";\"free sulfur dioxide\";\"total sulfur dioxide\";\"density\";\"pH\";\"sulphates\";\"alcohol\";\"quality\"\n",
            "0   7.4;0.7;0;1.9;0.076;11;34;0.9978;3.51;0.56;9.4;5                                                                                                                     \n",
            "1   7.8;0.88;0;2.6;0.098;25;67;0.9968;3.2;0.68;9.8;5                                                                                                                     \n",
            "2  7.8;0.76;0.04;2.3;0.092;15;54;0.997;3.26;0.65;...                                                                                                                     \n",
            "3  11.2;0.28;0.56;1.9;0.075;17;60;0.998;3.16;0.58...                                                                                                                     \n",
            "4   7.4;0.7;0;1.9;0.076;11;34;0.9978;3.51;0.56;9.4;5                                                                                                                     \n"
          ]
        }
      ]
    },
    {
      "cell_type": "markdown",
      "source": [
        "узнаем количество строк, создадим датасет нужного размера\n"
      ],
      "metadata": {
        "id": "hIqHgtccAJ2E"
      }
    },
    {
      "cell_type": "code",
      "source": [
        "num_rows, num_columns = df1.shape\n",
        "print(f\"Количество строк в DataFrame1: {num_rows}\")"
      ],
      "metadata": {
        "colab": {
          "base_uri": "https://localhost:8080/"
        },
        "id": "6svyL6-p_aZ6",
        "outputId": "f97af0b4-243e-4917-d756-22d6f4a84dc0"
      },
      "execution_count": 36,
      "outputs": [
        {
          "output_type": "stream",
          "name": "stdout",
          "text": [
            "Количество строк в DataFrame1: 1599\n"
          ]
        }
      ]
    },
    {
      "cell_type": "code",
      "source": [
        "red = df1.head(1000)\n"
      ],
      "metadata": {
        "id": "MyHjsDzy_y6_"
      },
      "execution_count": 37,
      "outputs": []
    },
    {
      "cell_type": "markdown",
      "source": [
        "Оставим только интересующие нас столбцы, а именно \"рH\" и \"alcohol\"\n",
        "\n",
        "P.S: тут происходит страх у ужас, но это мой первый код в жизни и я столкнулась с большим количеством проблем, которые лечились костылями. коротко: в изначальном датасете была только одна колонка, в которой содержалось 12 чисел, разделенных \";\". Я разделила датасет на 12 колонок, создала аналогичные изначальным названия для каждой колонки. Вывела интересующие меня колонки в отдельный датасет"
      ],
      "metadata": {
        "id": "_cPF9m-NAzas"
      }
    },
    {
      "cell_type": "code",
      "source": [
        "print(red.columns)\n"
      ],
      "metadata": {
        "colab": {
          "base_uri": "https://localhost:8080/"
        },
        "id": "ERjnlutxBKN-",
        "outputId": "f5687946-ff7c-4f51-ca37-db19ec68e996"
      },
      "execution_count": 38,
      "outputs": [
        {
          "output_type": "stream",
          "name": "stdout",
          "text": [
            "Index(['fixed acidity;\"volatile acidity\";\"citric acid\";\"residual sugar\";\"chlorides\";\"free sulfur dioxide\";\"total sulfur dioxide\";\"density\";\"pH\";\"sulphates\";\"alcohol\";\"quality\"'], dtype='object')\n"
          ]
        }
      ]
    },
    {
      "cell_type": "code",
      "source": [
        "red_reset = red\n",
        "new_column_names = ['fixed acidity/ volatile acidity/ citric acid/ residual sugar/ chlorides/ free sulfur dioxide/ total sulfur dioxide/ density/ pH/ sulphates/ alcohol/ quality' ]\n",
        "red_reset.columns = new_column_names\n",
        "print(red_reset.head())\n",
        "print(red_reset.tail())\n",
        "\n"
      ],
      "metadata": {
        "colab": {
          "base_uri": "https://localhost:8080/"
        },
        "id": "eQqsL9wfDJtC",
        "outputId": "12e756b8-5dd1-4a0b-e29b-095270600fc0"
      },
      "execution_count": 39,
      "outputs": [
        {
          "output_type": "stream",
          "name": "stdout",
          "text": [
            "  fixed acidity/ volatile acidity/ citric acid/ residual sugar/ chlorides/ free sulfur dioxide/ total sulfur dioxide/ density/ pH/ sulphates/ alcohol/ quality\n",
            "0   7.4;0.7;0;1.9;0.076;11;34;0.9978;3.51;0.56;9.4;5                                                                                                          \n",
            "1   7.8;0.88;0;2.6;0.098;25;67;0.9968;3.2;0.68;9.8;5                                                                                                          \n",
            "2  7.8;0.76;0.04;2.3;0.092;15;54;0.997;3.26;0.65;...                                                                                                          \n",
            "3  11.2;0.28;0.56;1.9;0.075;17;60;0.998;3.16;0.58...                                                                                                          \n",
            "4   7.4;0.7;0;1.9;0.076;11;34;0.9978;3.51;0.56;9.4;5                                                                                                          \n",
            "    fixed acidity/ volatile acidity/ citric acid/ residual sugar/ chlorides/ free sulfur dioxide/ total sulfur dioxide/ density/ pH/ sulphates/ alcohol/ quality\n",
            "995  7.7;0.6;0.06;2;0.079;19;41;0.99697;3.39;0.62;1...                                                                                                          \n",
            "996  5.6;0.66;0;2.2;0.087;3;11;0.99378;3.71;0.63;12...                                                                                                          \n",
            "997  5.6;0.66;0;2.2;0.087;3;11;0.99378;3.71;0.63;12...                                                                                                          \n",
            "998  8.9;0.84;0.34;1.4;0.05;4;10;0.99554;3.12;0.48;...                                                                                                          \n",
            "999  6.4;0.69;0;1.65;0.055;7;12;0.99162;3.47;0.53;1...                                                                                                          \n"
          ]
        }
      ]
    },
    {
      "cell_type": "code",
      "source": [
        "red_reset.info()"
      ],
      "metadata": {
        "colab": {
          "base_uri": "https://localhost:8080/"
        },
        "id": "bTthosZPQdNR",
        "outputId": "2bd64cb2-4970-4c2e-d528-c13a13cc6b9c"
      },
      "execution_count": 40,
      "outputs": [
        {
          "output_type": "stream",
          "name": "stdout",
          "text": [
            "<class 'pandas.core.frame.DataFrame'>\n",
            "RangeIndex: 1000 entries, 0 to 999\n",
            "Data columns (total 1 columns):\n",
            " #   Column                                                                                                                                                        Non-Null Count  Dtype \n",
            "---  ------                                                                                                                                                        --------------  ----- \n",
            " 0   fixed acidity/ volatile acidity/ citric acid/ residual sugar/ chlorides/ free sulfur dioxide/ total sulfur dioxide/ density/ pH/ sulphates/ alcohol/ quality  1000 non-null   object\n",
            "dtypes: object(1)\n",
            "memory usage: 7.9+ KB\n"
          ]
        }
      ]
    },
    {
      "cell_type": "code",
      "source": [
        "red1 = pd.DataFrame()\n",
        "red1[['fixed acidity', 'volatile acidity', 'citric acid', 'residual sugar', 'chlorides', 'free sulfur dioxide', 'total sulfur dioxide', 'density', 'pH', 'sulphates', 'alcohol', 'quality']] = red_reset['fixed acidity/ volatile acidity/ citric acid/ residual sugar/ chlorides/ free sulfur dioxide/ total sulfur dioxide/ density/ pH/ sulphates/ alcohol/ quality'].str.split(';', expand=True)\n",
        "\n",
        "red1.info()\n"
      ],
      "metadata": {
        "colab": {
          "base_uri": "https://localhost:8080/"
        },
        "id": "oqkmTN2hS1Da",
        "outputId": "316622be-7bfd-422c-e15f-de36663c3351"
      },
      "execution_count": 43,
      "outputs": [
        {
          "output_type": "stream",
          "name": "stdout",
          "text": [
            "<class 'pandas.core.frame.DataFrame'>\n",
            "RangeIndex: 1000 entries, 0 to 999\n",
            "Data columns (total 12 columns):\n",
            " #   Column                Non-Null Count  Dtype \n",
            "---  ------                --------------  ----- \n",
            " 0   fixed acidity         1000 non-null   object\n",
            " 1   volatile acidity      1000 non-null   object\n",
            " 2   citric acid           1000 non-null   object\n",
            " 3   residual sugar        1000 non-null   object\n",
            " 4   chlorides             1000 non-null   object\n",
            " 5   free sulfur dioxide   1000 non-null   object\n",
            " 6   total sulfur dioxide  1000 non-null   object\n",
            " 7   density               1000 non-null   object\n",
            " 8   pH                    1000 non-null   object\n",
            " 9   sulphates             1000 non-null   object\n",
            " 10  alcohol               1000 non-null   object\n",
            " 11  quality               1000 non-null   object\n",
            "dtypes: object(12)\n",
            "memory usage: 93.9+ KB\n"
          ]
        }
      ]
    },
    {
      "cell_type": "code",
      "source": [
        "red_data = red1[['pH', 'alcohol']]\n",
        "\n",
        "print(red_data_new.head())\n",
        "print(red_data_new.tail())\n",
        "\n"
      ],
      "metadata": {
        "colab": {
          "base_uri": "https://localhost:8080/"
        },
        "id": "Z4W5SBAHaOBm",
        "outputId": "fa3a1cc6-ad04-43d4-f86f-801818733454"
      },
      "execution_count": 49,
      "outputs": [
        {
          "output_type": "stream",
          "name": "stdout",
          "text": [
            "     pH alcohol\n",
            "0  3.51     9.4\n",
            "1   3.2     9.8\n",
            "2  3.26     9.8\n",
            "3  3.16     9.8\n",
            "4  3.51     9.4\n",
            "       pH alcohol\n",
            "995  3.39    10.1\n",
            "996  3.71    12.8\n",
            "997  3.71    12.8\n",
            "998  3.12     9.1\n",
            "999  3.47    12.9\n"
          ]
        }
      ]
    },
    {
      "cell_type": "markdown",
      "source": [
        "Я получила нужный мне датасет, с которым я буду работать. В нем 2 столбца и 1000 строк. Датасет содержит информацию о кислотности вина и процент содержания в нем алкоголя."
      ],
      "metadata": {
        "id": "TQwZxh_mnMJx"
      }
    },
    {
      "cell_type": "markdown",
      "source": [
        "Посмотрим на распределения данных и на их основные характеристики\n"
      ],
      "metadata": {
        "id": "CZc5n5XKs1el"
      }
    },
    {
      "cell_type": "code",
      "source": [
        "red_new = red_data_new.apply(pd.to_numeric, errors='coerce')\n",
        "\n",
        "red_new['pH'].hist()\n"
      ],
      "metadata": {
        "colab": {
          "base_uri": "https://localhost:8080/",
          "height": 447
        },
        "id": "Iq_ZsrFFoRMU",
        "outputId": "62403f00-3121-4d8b-b0cc-a4eb923115bb"
      },
      "execution_count": 46,
      "outputs": [
        {
          "output_type": "execute_result",
          "data": {
            "text/plain": [
              "<Axes: >"
            ]
          },
          "metadata": {},
          "execution_count": 46
        },
        {
          "output_type": "display_data",
          "data": {
            "text/plain": [
              "<Figure size 640x480 with 1 Axes>"
            ],
            "image/png": "[encoded data removed]"
          },
          "metadata": {}
        }
      ]
    },
    {
      "cell_type": "markdown",
      "source": [
        "Из гистограммы видно, что большинство образцов имеют кислотность 3,2-3,3. Это надо будет учитывать при разбивке данных на тренировочную и тестовую выборки."
      ],
      "metadata": {
        "id": "vhiwoZJCdSH2"
      }
    },
    {
      "cell_type": "code",
      "source": [
        "red_new['alcohol'].hist()"
      ],
      "metadata": {
        "colab": {
          "base_uri": "https://localhost:8080/",
          "height": 447
        },
        "id": "_Gby_p3Csads",
        "outputId": "dcf142c6-3c2e-482a-f3ba-59822a34e54f"
      },
      "execution_count": 47,
      "outputs": [
        {
          "output_type": "execute_result",
          "data": {
            "text/plain": [
              "<Axes: >"
            ]
          },
          "metadata": {},
          "execution_count": 47
        },
        {
          "output_type": "display_data",
          "data": {
            "text/plain": [
              "<Figure size 640x480 with 1 Axes>"
            ],
            "image/png": "[encoded data removed]"
          },
          "metadata": {}
        }
      ]
    },
    {
      "cell_type": "markdown",
      "source": [
        "Из гистограммы следует, что количество образцов с содержанием алкоголя более 10% значительно меньше. Это может затруднить обучение на данных, которые мало представлены в датасете"
      ],
      "metadata": {
        "id": "GfhpnmSPdg7R"
      }
    },
    {
      "cell_type": "code",
      "source": [
        "print(\"Статистика для кислотности\")\n",
        "stats = red_new['pH'].describe()\n",
        "print(stats)"
      ],
      "metadata": {
        "colab": {
          "base_uri": "https://localhost:8080/"
        },
        "id": "Gf4VfgX7MxSa",
        "outputId": "ed306a60-c9b7-48c9-bcee-bbcba1653710"
      },
      "execution_count": 53,
      "outputs": [
        {
          "output_type": "stream",
          "name": "stdout",
          "text": [
            "Статистика для кислотности\n",
            "count    1000.000000\n",
            "mean        3.299100\n",
            "std         0.157948\n",
            "min         2.740000\n",
            "25%         3.190000\n",
            "50%         3.300000\n",
            "75%         3.400000\n",
            "max         3.900000\n",
            "Name: pH, dtype: float64\n"
          ]
        }
      ]
    },
    {
      "cell_type": "code",
      "source": [
        "print(\"Статистика для содержания алкоголя\")\n",
        "stats = red_new['alcohol'].describe()\n",
        "print(stats)"
      ],
      "metadata": {
        "colab": {
          "base_uri": "https://localhost:8080/"
        },
        "id": "QjvJhiZYTWPl",
        "outputId": "54ca9729-f8d1-4fe4-e847-7def878ff4e6"
      },
      "execution_count": 54,
      "outputs": [
        {
          "output_type": "stream",
          "name": "stdout",
          "text": [
            "Статистика для содержания алкоголя\n",
            "count    1000.000000\n",
            "mean       10.240700\n",
            "std         1.033161\n",
            "min         8.400000\n",
            "25%         9.500000\n",
            "50%         9.900000\n",
            "75%        10.800000\n",
            "max        14.900000\n",
            "Name: alcohol, dtype: float64\n"
          ]
        }
      ]
    },
    {
      "cell_type": "markdown",
      "source": [
        "Можно заметить, что значения кислотности имеют небольшой диапазон значений от 2.7 до 3.9. Значения содержания алкоголя более разнообразные: от 8.4 до 14. Стандартное отклонение для значений кислотности невелико (0.16). Для содержания алкоголя аналогичный параметр равен 1.0, что также немного."
      ],
      "metadata": {
        "id": "bSO71UdNeOvx"
      }
    },
    {
      "cell_type": "markdown",
      "source": [
        "Создадим еще несколько визуализаций данных"
      ],
      "metadata": {
        "id": "jl80vBtopO7J"
      }
    },
    {
      "cell_type": "code",
      "source": [
        "import plotly as pl"
      ],
      "metadata": {
        "id": "HfHZ1wl7kD-y"
      },
      "execution_count": 57,
      "outputs": []
    },
    {
      "cell_type": "code",
      "source": [
        "import plotly.graph_objs as go\n",
        "import plotly.express as px\n",
        "from plotly.subplots import make_subplots"
      ],
      "metadata": {
        "id": "VsxJoB-llqLj"
      },
      "execution_count": 58,
      "outputs": []
    },
    {
      "cell_type": "code",
      "source": [
        "import matplotlib as mlt\n",
        "import matplotlib.pyplot as plt\n",
        "import seaborn as sns\n"
      ],
      "metadata": {
        "id": "hlu479GkogLw"
      },
      "execution_count": 75,
      "outputs": []
    },
    {
      "cell_type": "code",
      "source": [
        "x = pd.DataFrame()\n",
        "y = pd.DataFrame()\n",
        "\n",
        "x = red_new[['pH']]\n",
        "y = red_new[['alcohol']]\n",
        "\n",
        "plt.scatter(x, y, c = 'black')"
      ],
      "metadata": {
        "colab": {
          "base_uri": "https://localhost:8080/",
          "height": 447
        },
        "id": "Ng4lA4DilrBP",
        "outputId": "fcce4faa-5fa6-4e9c-af52-6cd516a50960"
      },
      "execution_count": 81,
      "outputs": [
        {
          "output_type": "execute_result",
          "data": {
            "text/plain": [
              "<matplotlib.collections.PathCollection at 0x7c396efb25c0>"
            ]
          },
          "metadata": {},
          "execution_count": 81
        },
        {
          "output_type": "display_data",
          "data": {
            "text/plain": [
              "<Figure size 640x480 with 1 Axes>"
            ],
            "image/png": "[encoded data removed]"
          },
          "metadata": {}
        }
      ]
    },
    {
      "cell_type": "markdown",
      "source": [
        "Данный график показывает, как распределены данные в зависимости от кислотности и содержания алкоголя. Можно видеть довольно однородное облако с несколькими выбросами в разные стороны."
      ],
      "metadata": {
        "id": "qeP-L190pT7h"
      }
    },
    {
      "cell_type": "code",
      "source": [
        "plt.figure(figsize=(5,5), dpi= 80)\n",
        "sns.boxplot(x, notch=False)\n",
        "\n",
        "plt.figure(figsize=(5,5), dpi= 80)\n",
        "sns.boxplot(y, notch=False)"
      ],
      "metadata": {
        "colab": {
          "base_uri": "https://localhost:8080/",
          "height": 716
        },
        "id": "S_A9gBzFoAJB",
        "outputId": "a630b524-cec8-4321-a045-069fab1771b3"
      },
      "execution_count": 80,
      "outputs": [
        {
          "output_type": "execute_result",
          "data": {
            "text/plain": [
              "<Axes: >"
            ]
          },
          "metadata": {},
          "execution_count": 80
        },
        {
          "output_type": "display_data",
          "data": {
            "text/plain": [
              "<Figure size 400x400 with 1 Axes>"
            ],
            "image/png": "[encoded data removed]"
          },
          "metadata": {}
        },
        {
          "output_type": "display_data",
          "data": {
            "text/plain": [
              "<Figure size 400x400 with 1 Axes>"
            ],
            "image/png": "[encoded data removed]"
          },
          "metadata": {}
        }
      ]
    },
    {
      "cell_type": "markdown",
      "source": [
        "Из боксплотов видно, что в обоих столбцах присутствует небольшое количество выбросов. Это может повлиять на качество обучения модели. Возможно, их стоит исключить из выборки и заменить более однородными с остальной частью данных."
      ],
      "metadata": {
        "id": "zDSRdEuCqhRn"
      }
    }
  ]
}